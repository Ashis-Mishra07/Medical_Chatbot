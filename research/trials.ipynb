{
 "cells": [
  {
   "cell_type": "code",
   "execution_count": 42,
   "id": "e6e6494d",
   "metadata": {},
   "outputs": [],
   "source": [
    "from langchain.document_loaders import PyPDFLoader , DirectoryLoader\n",
    "from langchain.text_splitter import RecursiveCharacterTextSplitter"
   ]
  },
  {
   "cell_type": "code",
   "execution_count": 43,
   "id": "0f02d58f",
   "metadata": {},
   "outputs": [],
   "source": [
    "# Extract the data from the pdf file\n",
    "def load_pdf_file(data):\n",
    "    loader = DirectoryLoader(data , glob=\"*.pdf\" , loader_cls=PyPDFLoader)\n",
    "    documents = loader.load()\n",
    "\n",
    "    return documents"
   ]
  },
  {
   "cell_type": "code",
   "execution_count": 44,
   "id": "6bc55311",
   "metadata": {},
   "outputs": [],
   "source": [
    "# extract the data\n",
    "extracted_data = load_pdf_file(data ='f:/Complete ML/All_Projects/MLProject6_chatbot/Data/')"
   ]
  },
  {
   "cell_type": "code",
   "execution_count": 45,
   "id": "7ab48f03",
   "metadata": {},
   "outputs": [],
   "source": [
    "# now chunking the data\n",
    "def text_split(extracted_data):\n",
    "    text_splitter = RecursiveCharacterTextSplitter(chunk_size=500, chunk_overlap=20)\n",
    "    text_chunks = text_splitter.split_documents(extracted_data)\n",
    "    return text_chunks"
   ]
  },
  {
   "cell_type": "code",
   "execution_count": 46,
   "id": "a88d0dca",
   "metadata": {},
   "outputs": [
    {
     "name": "stdout",
     "output_type": "stream",
     "text": [
      "Number of text chunks created: 8709\n"
     ]
    }
   ],
   "source": [
    "text_chunks = text_split(extracted_data)\n",
    "print(f\"Number of text chunks created: {len(text_chunks)}\")"
   ]
  },
  {
   "cell_type": "code",
   "execution_count": 47,
   "id": "dda1b01e",
   "metadata": {},
   "outputs": [],
   "source": [
    "# now using an embedding model to create the vector embedding \n",
    "def download_hugging_face_embeddings():\n",
    "    embeddings = HuggingFaceEmbeddings(model_name = 'sentence-transformers/all-MiniLM-L6-v2')\n",
    "    return embeddings\n",
    "\n",
    "\n",
    "# This is a sentence-transformers model: It maps sentences & paragraphs to a 384 dimensional \n",
    "# dense vector space and can be used for tasks like clustering or semantic search."
   ]
  },
  {
   "cell_type": "code",
   "execution_count": 48,
   "id": "7a3fd069",
   "metadata": {},
   "outputs": [],
   "source": [
    "embeddings = download_hugging_face_embeddings()"
   ]
  },
  {
   "cell_type": "code",
   "execution_count": 49,
   "id": "7f4f091d",
   "metadata": {},
   "outputs": [
    {
     "name": "stdout",
     "output_type": "stream",
     "text": [
      "length 384\n"
     ]
    }
   ],
   "source": [
    "query_result = embeddings.embed_query(\"Hello World\")\n",
    "print(\"length\" , len(query_result))"
   ]
  },
  {
   "cell_type": "code",
   "execution_count": 80,
   "id": "80c276fd",
   "metadata": {},
   "outputs": [
    {
     "data": {
      "text/plain": [
       "True"
      ]
     },
     "execution_count": 80,
     "metadata": {},
     "output_type": "execute_result"
    }
   ],
   "source": [
    "from dotenv import load_dotenv\n",
    "import os\n",
    "load_dotenv()"
   ]
  },
  {
   "cell_type": "code",
   "execution_count": 81,
   "id": "7ad9d857",
   "metadata": {},
   "outputs": [],
   "source": [
    "PINECONE_API_KEY = os.getenv(\"PINECONE_API_KEY\")\n",
    "GROQ_API_KEY  = os.getenv(\"GROQ_API_KEY\")"
   ]
  },
  {
   "cell_type": "code",
   "execution_count": 52,
   "id": "a8dc4269",
   "metadata": {},
   "outputs": [
    {
     "data": {
      "text/plain": [
       "{\n",
       "    \"name\": \"chatbot\",\n",
       "    \"metric\": \"cosine\",\n",
       "    \"host\": \"chatbot-er3ppo8.svc.aped-4627-b74a.pinecone.io\",\n",
       "    \"spec\": {\n",
       "        \"serverless\": {\n",
       "            \"cloud\": \"aws\",\n",
       "            \"region\": \"us-east-1\"\n",
       "        }\n",
       "    },\n",
       "    \"status\": {\n",
       "        \"ready\": true,\n",
       "        \"state\": \"Ready\"\n",
       "    },\n",
       "    \"vector_type\": \"dense\",\n",
       "    \"dimension\": 384,\n",
       "    \"deletion_protection\": \"disabled\",\n",
       "    \"tags\": null\n",
       "}"
      ]
     },
     "execution_count": 52,
     "metadata": {},
     "output_type": "execute_result"
    }
   ],
   "source": [
    "# initilaise the pine cone and store the embeddings\n",
    "from pinecone import Pinecone, ServerlessSpec\n",
    "\n",
    "pc = Pinecone(api_key=PINECONE_API_KEY)\n",
    "\n",
    "index_name = \"chatbot\"\n",
    "\n",
    "pc.create_index(\n",
    "    name=index_name,\n",
    "    dimension=384,  # Dimension of the embeddings\n",
    "    metric=\"cosine\",  # Similarity metric\n",
    "    spec =  ServerlessSpec(\n",
    "        cloud='aws',\n",
    "        region='us-east-1',\n",
    "    )\n",
    ")"
   ]
  },
  {
   "cell_type": "code",
   "execution_count": 83,
   "id": "d2f90f1b",
   "metadata": {},
   "outputs": [],
   "source": [
    "import os\n",
    "os.environ[\"PINECONE_API_KEY\"] = PINECONE_API_KEY\n",
    "os.environ[\"GROQ_API_KEY\"] = GROQ_API_KEY "
   ]
  },
  {
   "cell_type": "code",
   "execution_count": 54,
   "id": "762ba843",
   "metadata": {},
   "outputs": [],
   "source": [
    "# Embed each chunk and upsert the embeddings intyo the Pinecone index .\n",
    "from langchain_pinecone import PineconeVectorStore\n",
    "docsearch = PineconeVectorStore.from_documents(\n",
    "    documents=text_chunks,  # document to store\n",
    "    index_name=index_name,  # which index db i have to store\n",
    "    embedding=embeddings,   # giving the model\n",
    ")"
   ]
  },
  {
   "cell_type": "code",
   "execution_count": 55,
   "id": "76b2e199",
   "metadata": {},
   "outputs": [],
   "source": [
    "# Load the existing index \n",
    "from langchain_pinecone import PineconeVectorStore\n",
    "docsearch = PineconeVectorStore.from_existing_index(\n",
    "    index_name=index_name,  # which index db i have to store\n",
    "    embedding=embeddings,   # giving the model\n",
    ")"
   ]
  },
  {
   "cell_type": "code",
   "execution_count": 56,
   "id": "3d354b16",
   "metadata": {},
   "outputs": [
    {
     "data": {
      "text/plain": [
       "<langchain_pinecone.vectorstores.PineconeVectorStore at 0x290427e66e0>"
      ]
     },
     "execution_count": 56,
     "metadata": {},
     "output_type": "execute_result"
    }
   ],
   "source": [
    "docsearch"
   ]
  },
  {
   "cell_type": "code",
   "execution_count": null,
   "id": "825ba94b",
   "metadata": {},
   "outputs": [],
   "source": [
    "retriever = docsearch.as_retriever(search_type=\"similarity\", search_kwargs={\"k\": 3})\n",
    "# the above wiull give the top 3 similar chunks to the query"
   ]
  },
  {
   "cell_type": "code",
   "execution_count": 58,
   "id": "02351dcc",
   "metadata": {},
   "outputs": [],
   "source": [
    "query = \"What is Hyperbaric oxygen therapy ? \"\n",
    "results = retriever.invoke(query)"
   ]
  },
  {
   "cell_type": "code",
   "execution_count": 59,
   "id": "6ec5f5cc",
   "metadata": {},
   "outputs": [
    {
     "data": {
      "text/plain": [
       "[Document(id='bd5b2369-c128-405b-b9cf-adcaa2c46ced', metadata={'creationdate': '2004-12-18T17:52:16-05:00', 'creator': 'PyPDF', 'moddate': '2004-12-18T18:38:56-06:00', 'page': 807.0, 'page_label': '808', 'producer': 'PDFlib+PDI 5.0.0 (SunOS)', 'source': 'f:\\\\Complete ML\\\\All_Projects\\\\MLProject6_chatbot\\\\Data\\\\book.pdf', 'total_pages': 940.0}, page_content='blood from carrying sufficient oxygen to the brain\\nand other organs. As a result, the person may lose\\nconsciousness, stop breathing, and die without\\nartificial respiration (assisted breathing) and other\\nmeans of elevating the blood oxygen level.\\nHyperbaric oxygen therapy —Pure oxygen is\\nadministered to the patient in a special chamber at\\nthree times the normal atmospheric pressure. The\\npatient gets more oxygen faster to overcome\\nsevere asphyxiation.\\nPulmonary—Pertaining to the lungs.'),\n",
       " Document(id='3397cd3a-ba46-4c35-92c1-15e5c5723138', metadata={'creationdate': '2004-12-18T17:52:16-05:00', 'creator': 'PyPDF', 'moddate': '2004-12-18T18:38:56-06:00', 'page': 531.0, 'page_label': '532', 'producer': 'PDFlib+PDI 5.0.0 (SunOS)', 'source': 'f:\\\\Complete ML\\\\All_Projects\\\\MLProject6_chatbot\\\\Data\\\\book.pdf', 'total_pages': 940.0}, page_content='makes hyperbaric oxygen therapy useful in treating gas\\ngangrene and infections that cause tissue necrosis\\n(death). Hyperbaric oxygen therapy also promotes the\\ngrowth of new blood vessels.\\nPreparation\\nOxygen is often administered to a patient as first aid\\nwhile he or she is being transported to a hyperbaric\\nchamber. The treatment begins with chamber compres-\\nsion; as the pressure of the chamber atmosphere increas-\\nes, the temperature also rises and the patient’s ears may'),\n",
       " Document(id='86bbdba7-2c45-4d16-88f9-6adbb6a9a714', metadata={'creationdate': '2004-12-18T17:52:16-05:00', 'creator': 'PyPDF', 'moddate': '2004-12-18T18:38:56-06:00', 'page': 156.0, 'page_label': '157', 'producer': 'PDFlib+PDI 5.0.0 (SunOS)', 'source': 'f:\\\\Complete ML\\\\All_Projects\\\\MLProject6_chatbot\\\\Data\\\\book.pdf', 'total_pages': 940.0}, page_content='ignored.\\nOxygen, ozone, and hydrogen peroxide are used\\ntherapeutically in a variety of different ways.\\nHyperbaric oxygen therapy (HBO)\\nHyperbaric oxygen therapy (HBO) involves putting\\nthe patient in a pressurized chamber in which he or she\\nbreathes pure oxygen for a period of 90 minutes to two\\nhours. HBO may also be administered by using a tight-\\nfitting mask, similar to the masks used for anesthesia. A\\nnasal catheter may be used for small children.\\nGALE ENCYCLOPEDIA OF MEDICINE 22450')]"
      ]
     },
     "execution_count": 59,
     "metadata": {},
     "output_type": "execute_result"
    }
   ],
   "source": [
    "results"
   ]
  },
  {
   "cell_type": "code",
   "execution_count": 84,
   "id": "e811c537",
   "metadata": {},
   "outputs": [],
   "source": [
    "# to get the proper result we have to integrate the large language model\n",
    "from langchain_groq import ChatGroq\n",
    "\n",
    "llm = ChatGroq(\n",
    "    api_key=GROQ_API_KEY,\n",
    "    model=\"llama3-8b-8192\",  # or \"mixtral-8x7b-32768\", \"gemma-7b-it\"\n",
    ")\n"
   ]
  },
  {
   "cell_type": "code",
   "execution_count": 85,
   "id": "77e413e2",
   "metadata": {},
   "outputs": [],
   "source": [
    "from langchain.chains import create_retrieval_chain\n",
    "from langchain.chains.combine_documents import create_stuff_documents_chain\n",
    "from langchain_core.prompts import ChatPromptTemplate\n",
    "\n",
    "\n",
    "system_prompt = (\n",
    "    \"You are an assistant for question-answering tasks. \"\n",
    "    \"Use the following pieces of retrieved context to answer \"\n",
    "    \"the question. If you don't know the answer, say that you \"\n",
    "    \"don't know. Use three sentences maximum and keep the \"\n",
    "    \"answer concise.\"\n",
    "    \"\\n\\n\"\n",
    "    \"{context}\"\n",
    ")\n",
    "\n",
    "\n",
    "prompt = ChatPromptTemplate.from_messages(\n",
    "    [\n",
    "        (\"system\", system_prompt),\n",
    "        (\"human\", \"{input}\"),\n",
    "    ]\n",
    ")"
   ]
  },
  {
   "cell_type": "code",
   "execution_count": 86,
   "id": "ac930a11",
   "metadata": {},
   "outputs": [],
   "source": [
    "question_answer_chain = create_stuff_documents_chain(llm, prompt)\n",
    "rag_chain = create_retrieval_chain(retriever, question_answer_chain)"
   ]
  },
  {
   "cell_type": "code",
   "execution_count": 88,
   "id": "8604604f",
   "metadata": {},
   "outputs": [
    {
     "name": "stdout",
     "output_type": "stream",
     "text": [
      "Prognosis refers to the long-term outlook or survival after therapy. It varies depending on the type of tumor or cancer, with overall survival rates around 50% for patients treated for colon and rectal cancer, dependent on the stage of the cancer.\n"
     ]
    }
   ],
   "source": [
    "response = rag_chain.invoke({\"input\": \"what is Prognosis?\"})\n",
    "print(response[\"answer\"])"
   ]
  },
  {
   "cell_type": "code",
   "execution_count": 90,
   "id": "f87e8cf9",
   "metadata": {},
   "outputs": [
    {
     "name": "stdout",
     "output_type": "stream",
     "text": [
      "I don't know the answer to that question based on the provided context. The provided text does mention Acne as a key term, but it does not provide a definition of Acne.\n"
     ]
    }
   ],
   "source": [
    "response = rag_chain.invoke({\"input\": \"What is Acne?\"})\n",
    "print(response[\"answer\"])"
   ]
  }
 ],
 "metadata": {
  "kernelspec": {
   "display_name": "Python 3",
   "language": "python",
   "name": "python3"
  },
  "language_info": {
   "codemirror_mode": {
    "name": "ipython",
    "version": 3
   },
   "file_extension": ".py",
   "mimetype": "text/x-python",
   "name": "python",
   "nbconvert_exporter": "python",
   "pygments_lexer": "ipython3",
   "version": "3.10.18"
  }
 },
 "nbformat": 4,
 "nbformat_minor": 5
}
